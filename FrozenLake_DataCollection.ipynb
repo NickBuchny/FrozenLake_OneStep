{
 "cells": [
  {
   "cell_type": "code",
   "execution_count": 85,
   "metadata": {
    "collapsed": false
   },
   "outputs": [
    {
     "name": "stderr",
     "output_type": "stream",
     "text": [
      "[2017-06-18 12:24:35,950] Making new env: FrozenLake-v0\n"
     ]
    },
    {
     "name": "stdout",
     "output_type": "stream",
     "text": [
      "10000 10000 10000 10000\n",
      "[4, 1, 1, 1, 1, 2, 1, 2, 1, 1, 1, 2, 2, 1, 1, 3] [0, 4, 1, 1, 1, 2, 1, 2, 1, 1, 1, 2, 2, 1, 1, 3] 2\n"
     ]
    }
   ],
   "source": [
    "# how the board looks (static):\n",
    "\n",
    "# SFFF       (S: starting point, safe)\n",
    "# FHFH       (F: frozen surface, safe)\n",
    "# FFFH       (H: hole, fall to your doom)\n",
    "# HFFG       (G: goal, where the frisbee is located)\n",
    "\n",
    "# 0 = left\n",
    "# 3 = up\n",
    "# 1 = down\n",
    "# 2 = right\n",
    "\n",
    "import gym\n",
    "from copy import copy\n",
    "import pandas as pd\n",
    "import numpy as np\n",
    "\n",
    "# create dictionaries to translate between board and encoding values \n",
    "\n",
    "place_dict = dict()\n",
    "action_dict = dict()\n",
    "\n",
    "place_dict['S'] = 0\n",
    "place_dict['F'] = 1\n",
    "place_dict['H'] = 2\n",
    "place_dict['G'] = 3\n",
    "place_dict['P'] = 4 # P represents the current position\n",
    "\n",
    "action_dict['3'] = [1, 0, 0, 0]\n",
    "action_dict['2'] = [0, 1, 0, 0]\n",
    "action_dict['1'] = [0, 0, 1, 0]\n",
    "action_dict['0'] = [0, 0, 0, 1]\n",
    "\n",
    "\n",
    "# make the env\n",
    "\n",
    "\n",
    "env = gym.make('FrozenLake-v0')\n",
    "\n",
    "# lists for values we'd like to store\n",
    "actions = []\n",
    "reward_vals = [] \n",
    "st = []\n",
    "st_1 = []\n",
    "\n",
    "\n",
    "for eps in range(100):\n",
    "    observation = env.reset()\n",
    "    for _ in range(100):\n",
    "        # x1b[41mF\\x1b[0m is the code; \"F\" is the current state\n",
    "        # render = env.render(mode='ansi')\n",
    "        # contents = render.getvalue()\n",
    "        \n",
    "        # insert current observation into board\n",
    "        game_board = [0,1,1,1,1,2,1,2,1,1,1,2,2,1,1,3]\n",
    "        game_board[observation] = place_dict[\"P\"]\n",
    "        \n",
    "        # store the state of the game\n",
    "        st.append(game_board)\n",
    "        \n",
    "        # take an action\n",
    "        action = env.action_space.sample()\n",
    "        \n",
    "        # store the state at the next step \n",
    "        observation, reward, done, info = env.step(action)\n",
    "        game_board = [0,1,1,1,1,2,1,2,1,1,1,2,2,1,1,3]\n",
    "        game_board[observation] = place_dict[\"P\"]\n",
    "        \n",
    "        # append the action, st+1, and reward at that state \n",
    "        actions.append(action)\n",
    "        st_1.append(game_board)\n",
    "        reward_vals.append(reward)\n",
    "        \n",
    "print len(actions), len(reward_vals), len(st), len(st_1) \n",
    "\n",
    "print st[0], st_1[0], actions[0]\n"
   ]
  },
  {
   "cell_type": "code",
   "execution_count": 86,
   "metadata": {
    "collapsed": false
   },
   "outputs": [
    {
     "name": "stdout",
     "output_type": "stream",
     "text": [
      "[[0, 1, 0, 0], [1, 0, 0, 0], [0, 1, 0, 0], [0, 0, 1, 0], [1, 0, 0, 0], [0, 0, 0, 1], [0, 0, 0, 1], [0, 0, 0, 1], [0, 1, 0, 0], [1, 0, 0, 0]]\n"
     ]
    }
   ],
   "source": [
    "one_hot_actions = []\n",
    "\n",
    "for action in actions:\n",
    "    one_hot_actions.append(action_dict[str(action)])\n",
    "\n",
    "        \n",
    "print one_hot_actions[:10]\n",
    "    \n",
    "    "
   ]
  },
  {
   "cell_type": "code",
   "execution_count": 87,
   "metadata": {
    "collapsed": false
   },
   "outputs": [
    {
     "name": "stdout",
     "output_type": "stream",
     "text": [
      "10000\n",
      "10000 10000 10000 10000\n",
      "([0, 4, 1, 1, 1, 2, 1, 2, 1, 1, 1, 2, 2, 1, 1, 3], [4, 1, 1, 1, 1, 2, 1, 2, 1, 1, 1, 2, 2, 1, 1, 3])\n"
     ]
    }
   ],
   "source": [
    "from random import shuffle\n",
    "\n",
    "# randomizing the data: \n",
    "index_shuf = range(len(actions))\n",
    "shuffle(index_shuf)\n",
    "\n",
    "print(len(index_shuf))\n",
    "\n",
    "act_shuf = list()\n",
    "reward_vals_shuf = list()\n",
    "st_shuf = list()\n",
    "st_1_shuf = list()\n",
    "\n",
    "for i in index_shuf: \n",
    "    act_shuf.append(one_hot_actions[i])\n",
    "    reward_vals_shuf.append(reward_vals[i])\n",
    "    st_shuf.append(st[i])\n",
    "    st_1_shuf.append(st_1[i])\n",
    "    \n",
    "\n",
    "# turning it into pandas DataFrames\n",
    "    \n",
    "# actions = pd.DataFrame(act_shuf)\n",
    "# reward_vals = pd.DataFrame(reward_vals_shuf)\n",
    "# st = pd.DataFrame(st_shuf)\n",
    "# st_1 = pd.DataFrame(st_1_shuf)\n",
    "\n",
    "# print actions, reward_vals, st, st_1\n",
    "print len(actions), len(reward_vals), len(st), len(st_1)\n",
    "\n",
    "print(st_shuf[0], st_1_shuf[0])"
   ]
  },
  {
   "cell_type": "code",
   "execution_count": null,
   "metadata": {
    "collapsed": false
   },
   "outputs": [],
   "source": []
  },
  {
   "cell_type": "code",
   "execution_count": null,
   "metadata": {
    "collapsed": false
   },
   "outputs": [],
   "source": []
  },
  {
   "cell_type": "code",
   "execution_count": null,
   "metadata": {
    "collapsed": false
   },
   "outputs": [],
   "source": []
  },
  {
   "cell_type": "code",
   "execution_count": null,
   "metadata": {
    "collapsed": false
   },
   "outputs": [],
   "source": []
  },
  {
   "cell_type": "code",
   "execution_count": null,
   "metadata": {
    "collapsed": false
   },
   "outputs": [],
   "source": []
  },
  {
   "cell_type": "code",
   "execution_count": null,
   "metadata": {
    "collapsed": false
   },
   "outputs": [],
   "source": []
  },
  {
   "cell_type": "code",
   "execution_count": null,
   "metadata": {
    "collapsed": false
   },
   "outputs": [],
   "source": []
  },
  {
   "cell_type": "code",
   "execution_count": null,
   "metadata": {
    "collapsed": false
   },
   "outputs": [],
   "source": []
  },
  {
   "cell_type": "code",
   "execution_count": null,
   "metadata": {
    "collapsed": true
   },
   "outputs": [],
   "source": []
  },
  {
   "cell_type": "code",
   "execution_count": null,
   "metadata": {
    "collapsed": true
   },
   "outputs": [],
   "source": []
  }
 ],
 "metadata": {
  "anaconda-cloud": {},
  "kernelspec": {
   "display_name": "Python 2",
   "language": "python",
   "name": "python2"
  },
  "language_info": {
   "codemirror_mode": {
    "name": "ipython",
    "version": 2
   },
   "file_extension": ".py",
   "mimetype": "text/x-python",
   "name": "python",
   "nbconvert_exporter": "python",
   "pygments_lexer": "ipython2",
   "version": "2.7.13"
  }
 },
 "nbformat": 4,
 "nbformat_minor": 1
}
